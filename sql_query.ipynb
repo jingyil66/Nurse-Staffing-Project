{
 "cells": [
  {
   "cell_type": "markdown",
   "metadata": {},
   "source": [
    "# Connect to redshift"
   ]
  },
  {
   "cell_type": "code",
   "execution_count": null,
   "metadata": {},
   "outputs": [
    {
     "name": "stdout",
     "output_type": "stream",
     "text": [
      "(1325324,)\n"
     ]
    }
   ],
   "source": [
    "import psycopg2\n",
    "import boto3\n",
    "\n",
    "# Redshift connection parameters\n",
    "host = '<Your_redshift-cluster_host>'\n",
    "port = '5439'\n",
    "dbname = 'dev'\n",
    "user = 'admin'\n",
    "password = 'Password123'\n",
    "\n",
    "# Establish connection to Redshift\n",
    "try:\n",
    "    connection = psycopg2.connect(\n",
    "        host=host,\n",
    "        port=port,\n",
    "        dbname=dbname,\n",
    "        user=user,\n",
    "        password=password\n",
    "    )\n",
    "    \n",
    "    # Create a cursor object to interact with the database\n",
    "    cursor = connection.cursor()\n",
    "\n",
    "    # Example SQL query\n",
    "    sql_query = \"SELECT COUNT(*) FROM public.staff_raw;\"\n",
    "\n",
    "    # Execute the query\n",
    "    cursor.execute(sql_query)\n",
    "\n",
    "    # Fetch the result\n",
    "    result = cursor.fetchall()\n",
    "\n",
    "    # Print the results\n",
    "    for row in result:\n",
    "        print(row)\n",
    "\n",
    "except Exception as e:\n",
    "    print(f\"Error: {e}\")\n"
   ]
  },
  {
   "cell_type": "code",
   "execution_count": 5,
   "metadata": {},
   "outputs": [
    {
     "name": "stdout",
     "output_type": "stream",
     "text": [
      "('rndon',)\n",
      "('rn',)\n",
      "('lpn',)\n",
      "('natrn',)\n",
      "('rnadmin',)\n",
      "('lpnadmin',)\n",
      "('cna',)\n",
      "('medaide',)\n"
     ]
    }
   ],
   "source": [
    "sql_query = '''\n",
    "    SELECT DISTINCT Role FROM public.staff_hours;\n",
    "\n",
    "\n",
    "'''\n",
    "cursor.execute(sql_query)\n",
    "result = cursor.fetchall()\n",
    "for row in result:\n",
    "    print(row)"
   ]
  },
  {
   "cell_type": "markdown",
   "metadata": {},
   "source": [
    "# Analysis"
   ]
  },
  {
   "cell_type": "markdown",
   "metadata": {},
   "source": [
    "## 1. Analysis by Region"
   ]
  },
  {
   "cell_type": "markdown",
   "metadata": {},
   "source": [
    "### 1.1 Nurse Staffing ratio by State"
   ]
  },
  {
   "cell_type": "code",
   "execution_count": 2,
   "metadata": {},
   "outputs": [
    {
     "name": "stdout",
     "output_type": "stream",
     "text": [
      "('MO', 3.24244682029277)\n",
      "('IL', 3.25335077395743)\n",
      "('TX', 3.29513728044523)\n",
      "('NM', 3.3935734824943)\n",
      "('WV', 3.45059902152462)\n",
      "('GA', 3.49111551414975)\n",
      "('VA', 3.51428807061691)\n",
      "('NY', 3.59258603543926)\n",
      "('IN', 3.59604863669311)\n",
      "('LA', 3.61167990696428)\n",
      "('NC', 3.62344115256852)\n",
      "('OH', 3.62784768386199)\n",
      "('PA', 3.62948860717486)\n",
      "('RI', 3.632438412123)\n",
      "('NJ', 3.6355088296775)\n",
      "('CT', 3.65591613845808)\n",
      "('SC', 3.65633648041368)\n",
      "('CO', 3.66615701582845)\n",
      "('TN', 3.68267344847579)\n",
      "('OK', 3.70412779289317)\n",
      "('MA', 3.7241885918198)\n",
      "('WY', 3.74058578136182)\n",
      "('NH', 3.74352693604282)\n",
      "('NV', 3.75693101435567)\n",
      "('KY', 3.76654574051263)\n",
      "('MD', 3.76789355974786)\n",
      "('IA', 3.77195706955568)\n",
      "('MT', 3.77858736333017)\n",
      "('SD', 3.79310526086447)\n",
      "('FL', 3.80468710420148)\n",
      "('MI', 3.84329569906455)\n",
      "('AL', 3.85661745115453)\n",
      "('UT', 3.87309707509974)\n",
      "('ID', 3.90923994634544)\n",
      "('KS', 3.96300584063568)\n",
      "('AZ', 3.98605673695876)\n",
      "('WI', 3.98714743133763)\n",
      "('MS', 3.99672239254452)\n",
      "('VT', 4.06940950218658)\n",
      "('AR', 4.07101692983774)\n",
      "('NE', 4.10163566736438)\n",
      "('DE', 4.13771372899245)\n",
      "('MN', 4.20119407537167)\n",
      "('CA', 4.22600468826036)\n",
      "('DC', 4.23864866177423)\n",
      "('ME', 4.30266741189444)\n",
      "('WA', 4.33570504249931)\n",
      "('HI', 4.44852106736381)\n",
      "('ND', 4.65199606668064)\n",
      "('PR', 4.79159789437935)\n",
      "('OR', 5.01218060478445)\n",
      "('AK', 6.01247511429311)\n"
     ]
    }
   ],
   "source": [
    "sql_query = '''\n",
    "    SELECT \n",
    "        STATE,\n",
    "        SUM(Hrs_RNDON +\n",
    "            Hrs_RNadmin +\n",
    "            Hrs_RN +\n",
    "            Hrs_LPNadmin +\n",
    "            Hrs_LPN +\n",
    "            Hrs_CNA +\n",
    "            Hrs_NAtrn +\n",
    "            Hrs_MedAide) / SUM(MDScensus) AS Nurse_Staffing_Ratio\n",
    "    FROM public.staff_raw\n",
    "    WHERE MDScensus > 0\n",
    "    GROUP BY STATE\n",
    "    ORDER BY Nurse_Staffing_Ratio;\n",
    "\n",
    "'''\n",
    "cursor.execute(sql_query)\n",
    "result = cursor.fetchall()\n",
    "for row in result:\n",
    "    print(row)"
   ]
  },
  {
   "cell_type": "markdown",
   "metadata": {},
   "source": [
    "## 2. Analysis by Employment Type (Contractor, Employer)"
   ]
  },
  {
   "cell_type": "markdown",
   "metadata": {},
   "source": [
    "### 2.1 Contractor Nurse Staffing Hour Percentage by State"
   ]
  },
  {
   "cell_type": "code",
   "execution_count": 3,
   "metadata": {},
   "outputs": [
    {
     "name": "stdout",
     "output_type": "stream",
     "text": [
      "('VT', 0.29639254832869)\n",
      "('ME', 0.15944246708474)\n",
      "('NH', 0.153850152724816)\n",
      "('PA', 0.143562163647583)\n",
      "('NJ', 0.140117813368113)\n",
      "('MT', 0.136774715788514)\n",
      "('DE', 0.130104295299161)\n",
      "('ND', 0.124996807221619)\n",
      "('NY', 0.121977730036821)\n",
      "('OR', 0.112852583964292)\n",
      "('NE', 0.102984755194681)\n",
      "('MD', 0.102800731559888)\n",
      "('AK', 0.102294628104675)\n",
      "('NC', 0.0994310233862974)\n",
      "('WI', 0.0982147322135922)\n",
      "('SD', 0.0915134889806802)\n",
      "('CO', 0.0906264222615663)\n",
      "('HI', 0.089118731865989)\n",
      "('MA', 0.0867348845262703)\n",
      "('IL', 0.0835444111984028)\n",
      "('NM', 0.0751747633592423)\n",
      "('MN', 0.0739634367931947)\n",
      "('WA', 0.0704015858702044)\n",
      "('MS', 0.0696476272088264)\n",
      "('GA', 0.0672017292699964)\n",
      "('SC', 0.0623464070781175)\n",
      "('VA', 0.0616381697340084)\n",
      "('MO', 0.0609103338712016)\n",
      "('TN', 0.0596673543738582)\n",
      "('KY', 0.0595010105083592)\n",
      "('KS', 0.0594518126213861)\n",
      "('OH', 0.0589253759432898)\n",
      "('IA', 0.0586304542946027)\n",
      "('CT', 0.0557474268530435)\n",
      "('DC', 0.0551335821757881)\n",
      "('WV', 0.0550982787577767)\n",
      "('RI', 0.0546255038621399)\n",
      "('ID', 0.0541474606630986)\n",
      "('WY', 0.0505725645300703)\n",
      "('UT', 0.0454418478703663)\n",
      "('AZ', 0.0448925176013917)\n",
      "('LA', 0.0444366708909047)\n",
      "('IN', 0.0367813768307238)\n",
      "('TX', 0.0356708017476098)\n",
      "('CA', 0.0346645376180188)\n",
      "('MI', 0.0325103715175336)\n",
      "('OK', 0.0310807102613496)\n",
      "('NV', 0.0277820237386306)\n",
      "('FL', 0.0274535684138102)\n",
      "('AR', 0.0229193529849552)\n",
      "('PR', 0.0167554288581785)\n",
      "('AL', 0.0139983406362578)\n"
     ]
    }
   ],
   "source": [
    "sql_query = '''\n",
    "    SELECT\n",
    "        state,\n",
    "        SUM(\n",
    "            Hrs_RNDON_ctr +\n",
    "            Hrs_RNadmin_ctr +\n",
    "            Hrs_RN_ctr +\n",
    "            Hrs_LPNadmin_ctr +\n",
    "            Hrs_LPN_ctr +\n",
    "            Hrs_CNA_ctr +\n",
    "            Hrs_NAtrn_ctr +\n",
    "            Hrs_MedAide_ctr\n",
    "        ) /\n",
    "        SUM(\n",
    "            Hrs_RNDON +\n",
    "            Hrs_RNadmin +\n",
    "            Hrs_RN +\n",
    "            Hrs_LPNadmin +\n",
    "            Hrs_LPN +\n",
    "            Hrs_CNA +\n",
    "            Hrs_NAtrn +\n",
    "            Hrs_MedAide\n",
    "        ) AS Contractor_Perc\n",
    "    FROM\n",
    "        public.staff_raw\n",
    "    GROUP BY state\n",
    "    ORDER BY Contractor_Perc DESC\n",
    "'''\n",
    "cursor.execute(sql_query)\n",
    "result = cursor.fetchall()\n",
    "for row in result:\n",
    "    print(row)"
   ]
  },
  {
   "cell_type": "markdown",
   "metadata": {},
   "source": [
    "### 2.2 Contractor Nurse Staffing Hour Percentage by Role"
   ]
  },
  {
   "cell_type": "code",
   "execution_count": 4,
   "metadata": {},
   "outputs": [
    {
     "name": "stdout",
     "output_type": "stream",
     "text": [
      "(0.0185867162566199, 0.0244683083769214, 0.0807912052549657, 0.0101134880142207, 0.0926887447772934, 0.0700928945543245, 0.0120737770313285, 0.0250658689119716)\n"
     ]
    }
   ],
   "source": [
    "sql_query = '''\n",
    "    SELECT \n",
    "        SUM(Hrs_RNDON_ctr) / NULLIF(SUM(Hrs_RNDON), 0) AS RNDON_ratio,\n",
    "        SUM(Hrs_RNadmin_ctr) / NULLIF(SUM(Hrs_RNadmin), 0) AS RNadmin_ratio,\n",
    "        SUM(Hrs_RN_ctr) / NULLIF(SUM(Hrs_RN), 0) AS RN_ratio,\n",
    "        SUM(Hrs_LPNadmin_ctr) / NULLIF(SUM(Hrs_LPNadmin), 0) AS LPNadmin_ratio,\n",
    "        SUM(Hrs_LPN_ctr) / NULLIF(SUM(Hrs_LPN), 0) AS LPN_ratio,\n",
    "        SUM(Hrs_CNA_ctr) / NULLIF(SUM(Hrs_CNA), 0) AS CNA_ratio,\n",
    "        SUM(Hrs_NAtrn_ctr) / NULLIF(SUM(Hrs_NAtrn), 0) AS NAtrn_ratio,\n",
    "        SUM(Hrs_MedAide_ctr) / NULLIF(SUM(Hrs_MedAide), 0) AS MedAide_ratio\n",
    "    FROM \n",
    "        public.staff_raw;\n",
    "\n",
    "'''\n",
    "cursor.execute(sql_query)\n",
    "result = cursor.fetchall()\n",
    "for row in result:\n",
    "    print(row)"
   ]
  },
  {
   "cell_type": "code",
   "execution_count": 5,
   "metadata": {},
   "outputs": [
    {
     "name": "stdout",
     "output_type": "stream",
     "text": [
      "(0.0185867162566199, 0.0244683083769214, 0.0807912052549657, 0.0101134880142207, 0.0926887447772934, 0.0700928945543245, 0.0120737770313285, 0.0250658689119716)\n"
     ]
    }
   ],
   "source": [
    "sql_query = '''\n",
    "    SELECT \n",
    "        SUM(Hrs_RNDON_ctr) / NULLIF(SUM(Hrs_RNDON), 0) AS RNDON_ratio,\n",
    "        SUM(Hrs_RNadmin_ctr) / NULLIF(SUM(Hrs_RNadmin), 0) AS RNadmin_ratio,\n",
    "        SUM(Hrs_RN_ctr) / NULLIF(SUM(Hrs_RN), 0) AS RN_ratio,\n",
    "        SUM(Hrs_LPNadmin_ctr) / NULLIF(SUM(Hrs_LPNadmin), 0) AS LPNadmin_ratio,\n",
    "        SUM(Hrs_LPN_ctr) / NULLIF(SUM(Hrs_LPN), 0) AS LPN_ratio,\n",
    "        SUM(Hrs_CNA_ctr) / NULLIF(SUM(Hrs_CNA), 0) AS CNA_ratio,\n",
    "        SUM(Hrs_NAtrn_ctr) / NULLIF(SUM(Hrs_NAtrn), 0) AS NAtrn_ratio,\n",
    "        SUM(Hrs_MedAide_ctr) / NULLIF(SUM(Hrs_MedAide), 0) AS MedAide_ratio\n",
    "    FROM \n",
    "        public.staff_raw;\n",
    "\n",
    "'''\n",
    "cursor.execute(sql_query)\n",
    "result = cursor.fetchall()\n",
    "for row in result:\n",
    "    print(row)"
   ]
  },
  {
   "cell_type": "markdown",
   "metadata": {},
   "source": [
    "LPN, RN, CNA"
   ]
  },
  {
   "cell_type": "markdown",
   "metadata": {},
   "source": [
    "### 2.3 Contractor Nurse Staffing Hour Percentage by Role and State"
   ]
  },
  {
   "cell_type": "code",
   "execution_count": 6,
   "metadata": {},
   "outputs": [
    {
     "name": "stdout",
     "output_type": "stream",
     "text": [
      "('NC', 0.0194486068903132, 0.0176957513888144, 0.0929051180093136, 0.00671597850468934, 0.148347058343544, 0.098015855447832, 0.0115884021605778, 0.0446454305900264)\n",
      "('NY', 0.00403348366896686, 0.0470469929508993, 0.166227465631268, 0.0306511157267844, 0.180791188178905, 0.0981707907404322, 0.120650470123154, 0.140537468063662)\n",
      "('OH', 0.0112475321266082, 0.0532947783996562, 0.0595336224507991, 0.0172117170348343, 0.0694981563109913, 0.0602368627744775, 2.5491643235598e-05, 0.0113845595018984)\n",
      "('IA', 0.0123941964545702, 0.0247030673484297, 0.0797967910150252, 0.00484657103920086, 0.0686899556705365, 0.0638938301558257, 0.000510061150258672, 0.0101194348832937)\n",
      "('KS', 0.0589394175328628, 0.00612209702407777, 0.077280452384632, 0.00587268002936452, 0.0613699711858307, 0.0673391811988666, 0.0, 0.0355179246845979)\n",
      "('CA', 0.0143247395332502, 0.0247901016530014, 0.023919428936436, 0.00513395506920986, 0.0276455499404159, 0.0417012577475912, 0.000115105558660664, 0.0275506380727778)\n",
      "('KY', 0.00548100801105549, 0.00700372182124852, 0.0679768542150144, 0.00176869829941463, 0.107320080950404, 0.0562964739081936, 0.000883693843784207, 0.0119877989113627)\n",
      "('MO', 0.023402612554218, 0.0141327093829713, 0.051560990497399, 0.00746650450719937, 0.0902091681799462, 0.0750025717606486, 0.000522517094765402, 0.0262179852667926)\n",
      "('VA', 0.0237719260006132, 0.0219756682572918, 0.0893821782832779, 0.00241662743867735, 0.0908633686167204, 0.0525826918670906, 0.0, 0.00250956142904466)\n",
      "('FL', 0.0103577636471649, 0.0314401388426782, 0.0259695803559202, 0.00756852851654126, 0.0473356610062342, 0.0224206695352504, 0.0, 0.0973597201590876)\n",
      "('LA', 0.0701804504042853, 0.0423157228394917, 0.018062157863103, 0.0176922582580423, 0.0580701707777805, 0.0419365558718347, 0.000214229957113841, 0.0)\n",
      "('NM', 0.0319394274495056, 0.0159700297631634, 0.138659342627626, 0.0239979857587481, 0.155763962365687, 0.052456401141221, 0.0, 0.0)\n",
      "('ND', 0.0244926861444147, 0.00095034326843996, 0.0863414679646907, 0.0, 0.171427535390289, 0.146396633833136, 0.0, 0.0202405801979995)\n",
      "('MA', 0.0195891161099478, 0.0225386009913245, 0.169621943312171, 0.00313103495014283, 0.136011451452345, 0.0635778854904927, 0.0142844190618531, 0.00517409091222672)\n",
      "('WY', 0.0, 0.00503072236900019, 0.0200975157543407, 0.0, 0.126449363128224, 0.0558758677462653, 0.0, 0.0)\n",
      "('SC', 0.0152645215342674, 0.00709184930369599, 0.074705732140027, 0.00816192117686635, 0.0913725624092095, 0.0545205399038458, 0.000853755410210914, 0.0206085008232399)\n",
      "('MI', 0.0100694194346574, 0.0163190345028152, 0.0237909756561082, 0.00583782293472813, 0.052201329363522, 0.0300317808542394, 0.000130484099376017, 0.00907922224007713)\n",
      "('WI', 0.0278531445336451, 0.0112862591708373, 0.097726804320293, 0.0194785761495364, 0.173225887928375, 0.0951595606316863, 0.000840816070853888, 0.00573581543913625)\n",
      "('MS', 0.012382988171844, 0.0191811084334556, 0.0519165894753951, 0.0579953533385047, 0.0755430516286423, 0.0775298704159037, 0.00612463399652452, 0.0)\n",
      "('WV', 0.0128328526696407, 0.00753943883822094, 0.030901538580858, 0.0, 0.0948924268876042, 0.0505958212587473, 0.0, 0.0)\n",
      "('MT', 0.120697005965451, 0.0, 0.0987461930110392, 0.165448620022406, 0.187751393415134, 0.150097573009555, 0.0158774487751127, 0.0234801882053885)\n",
      "('WA', 0.058656246650917, 0.00489082959902914, 0.0694974749299953, 0.00430167164996028, 0.0978993759175827, 0.0742610989724778, 0.00692264288623406, 0.000172829597275929)\n",
      "('NE', 0.0240321385978214, 0.00888412945888875, 0.100695666494505, 0.00733176356345756, 0.169085859239497, 0.106689929461423, 0.0, 0.0749370233413293)\n",
      "('CO', 0.0205754432073674, 0.0186401028747858, 0.066595035982723, 0.0150818998650697, 0.131960762516807, 0.0951349395712916, 0.00358703018132484, 0.0921231325633781)\n",
      "('OR', 0.0413845433349327, 0.016094291391381, 0.167878165052203, 0.00545722679897773, 0.170039752874032, 0.113223506916321, 0.00307085789679071, 0.0423710230221592)\n",
      "('HI', 0.0533830125664251, 0.0141573567100912, 0.0849080560413818, 0.017597419372583, 0.256364312221173, 0.0785179866097969, 0.0475397530108601, 0.0)\n",
      "('DE', 0.0369857951671014, 0.0153737647584764, 0.176959937416623, 0.00211463396032808, 0.200522951313344, 0.108332568020678, 0.0, None)\n",
      "('SD', 0.0358030554407693, 0.0127116427603295, 0.0686016932450753, 0.0, 0.134553995930614, 0.112782265583908, 0.0, 0.0157338859831221)\n",
      "('NV', 0.00892606844341919, 0.00301352536232482, 0.0365185550801516, 0.00050880012211203, 0.0364027280761074, 0.0258293757609228, 0.00190025147666632, 0.0)\n",
      "('ID', 0.0, 0.0429437117406708, 0.0647809024053399, 0.00230467602686716, 0.0933396343321771, 0.0527447209895251, 0.000262033144281272, 0.0)\n",
      "('ME', 0.0546719876952123, 0.0126248082808743, 0.13113209002533, 0.0, 0.333087185272869, 0.169395005774902, 0.0, 0.0192880792961662)\n",
      "('AL', 0.0182610345637093, 0.00713945937165424, 0.0132083149619716, 0.0, 0.0322102347820692, 0.0108657302097225, 0.0, 0.0)\n",
      "('TX', 0.014148784988303, 0.0230809365430226, 0.0234914017257467, 0.00923678112952968, 0.0421777562128229, 0.0425354777492885, 0.00593858921687655, 0.0183624535073583)\n",
      "('PR', 0.0, 0.0, 0.0200705878567239, 0.0, 0.0180580404207837, None, None, None)\n",
      "('RI', 0.0072616636041499, 0.00280741415065597, 0.0744120474118166, 0.0, 0.0842676283165171, 0.0519156387352121, 0.00987761635253843, 0.0102488011924778)\n",
      "('OK', 0.0270482782009866, 0.0271243569752388, 0.031163791294441, 0.0122661644129351, 0.0369445309608269, 0.0358571614060275, 0.0, 0.0175197378787022)\n",
      "('PA', 0.0149845802534499, 0.0162471744073098, 0.126410201473663, 0.046623797018234, 0.188428716676411, 0.14532142034353, 0.000377704971864688, 0.0595447646536309)\n",
      "('NJ', 0.0296455844100821, 0.0230963701715685, 0.0970546770274286, 0.015891129233369, 0.149543755615654, 0.162858561301618, 0.0729279833612282, 0.591269293078981)\n",
      "('GA', 0.0110420520934762, 0.0126249631022716, 0.048754247267953, 0.00475995278471612, 0.0785254032007124, 0.0777501935154726, 0.000604177585161759, 0.00572507129413441)\n",
      "('TN', 0.0198354580792603, 0.0191645903482452, 0.0477403827560073, 0.00728281334090087, 0.0833607936172232, 0.0585106946208102, 8.28515895341873e-05, 0.0)\n",
      "('IL', 0.0035205745283483, 0.0230396419664417, 0.122498682003285, 0.00939511392468612, 0.093976941194977, 0.0779727508735486, 0.0, 0.862234359528109)\n",
      "('CT', 0.0184214737995127, 0.027379847654534, 0.0617541165285418, 0.0128944395026808, 0.0717262860380028, 0.0528604623316945, 0.00035821511438525, 0.139185803233527)\n",
      "('IN', 0.0138253713505891, 0.0199976345878546, 0.0556279917510345, 0.00130454892007957, 0.0622010451898618, 0.0301733421804419, 0.000317266680519155, 0.031646929308246)\n",
      "('MD', 0.0131613394336883, 0.00471029950558791, 0.124579287090436, 0.000998887276018164, 0.10768564976605, 0.116227692471181, 0.000104707816886061, 0.00721607132770711)\n",
      "('UT', 0.00312737227647024, 0.0288660583371072, 0.0634170435853072, 0.0, 0.034270383537089, 0.0511151427371849, 0.000290582505710532, 0.0)\n",
      "('MN', 0.0428558884349455, 0.0249791534563679, 0.0953063489063963, 0.00870821003651363, 0.0902214621716664, 0.0780626972213301, 8.68735798335984e-05, 0.0161690046103443)\n",
      "('AZ', 0.0135886627648642, 0.000210719435424312, 0.0652219559079092, 0.000136338382776827, 0.048474057434874, 0.0453279586830287, 0.0, 0.0)\n",
      "('NH', 0.00631278580392135, 0.0190797611686675, 0.0780467243256063, 0.0142777628942124, 0.218452023399674, 0.178193951672497, 0.0, 0.0134335131429647)\n",
      "('DC', 0.0, 0.00811411170575998, 0.0718150035442995, 0.00240505730558577, 0.0527910979497543, 0.0574019673199456, None, 0.0)\n",
      "('AK', 0.0, 0.00546910321291584, 0.1283155058555, 0.0, 0.143002551824985, 0.101501373139696, 0.0, 0.0)\n",
      "('AR', 0.0, 0.135569446798779, 0.0279747002294255, 0.000347063446209958, 0.040982160440239, 0.0150448267487885, 0.0, 0.000164055518027856)\n",
      "('VT', 0.0764416645446818, 0.031485558500146, 0.110766321223874, 0.0129142306898686, 0.410364726303073, 0.337749042399404, 0.0, 0.0)\n"
     ]
    }
   ],
   "source": [
    "sql_query = '''\n",
    "    SELECT \n",
    "        state,\n",
    "        SUM(Hrs_RNDON_ctr) / NULLIF(SUM(Hrs_RNDON), 0) AS RNDON_ratio,\n",
    "        SUM(Hrs_RNadmin_ctr) / NULLIF(SUM(Hrs_RNadmin), 0) AS RNadmin_ratio,\n",
    "        SUM(Hrs_RN_ctr) / NULLIF(SUM(Hrs_RN), 0) AS RN_ratio,\n",
    "        SUM(Hrs_LPNadmin_ctr) / NULLIF(SUM(Hrs_LPNadmin), 0) AS LPNadmin_ratio,\n",
    "        SUM(Hrs_LPN_ctr) / NULLIF(SUM(Hrs_LPN), 0) AS LPN_ratio,\n",
    "        SUM(Hrs_CNA_ctr) / NULLIF(SUM(Hrs_CNA), 0) AS CNA_ratio,\n",
    "        SUM(Hrs_NAtrn_ctr) / NULLIF(SUM(Hrs_NAtrn), 0) AS NAtrn_ratio,\n",
    "        SUM(Hrs_MedAide_ctr) / NULLIF(SUM(Hrs_MedAide), 0) AS MedAide_ratio\n",
    "    FROM \n",
    "        public.staff_raw\n",
    "    GROUP BY\n",
    "        state\n",
    "'''\n",
    "cursor.execute(sql_query)\n",
    "result = cursor.fetchall()\n",
    "for row in result:\n",
    "    print(row)"
   ]
  },
  {
   "cell_type": "markdown",
   "metadata": {},
   "source": [
    "## 3. Analysis by Time"
   ]
  },
  {
   "cell_type": "markdown",
   "metadata": {},
   "source": [
    "### 3.1 The month with the highest MDScensus"
   ]
  },
  {
   "cell_type": "code",
   "execution_count": 7,
   "metadata": {},
   "outputs": [
    {
     "name": "stdout",
     "output_type": "stream",
     "text": [
      "(5, 37648478)\n",
      "(6, 36495133)\n",
      "(4, 36410544)\n"
     ]
    }
   ],
   "source": [
    "sql_query = '''\n",
    "    SELECT \n",
    "        EXTRACT(MONTH FROM WorkDate) AS Month,\n",
    "        SUM(MDScensus) AS Total_Census\n",
    "    FROM \n",
    "        public.staff_raw\n",
    "    GROUP BY\n",
    "        Month\n",
    "    ORDER BY\n",
    "        Total_Census DESC\n",
    "'''\n",
    "cursor.execute(sql_query)\n",
    "result = cursor.fetchall()\n",
    "for row in result:\n",
    "    print(row)"
   ]
  },
  {
   "cell_type": "markdown",
   "metadata": {},
   "source": [
    "### 3.2 The weekday with the highest MDScensus"
   ]
  },
  {
   "cell_type": "code",
   "execution_count": 8,
   "metadata": {},
   "outputs": [
    {
     "name": "stdout",
     "output_type": "stream",
     "text": [
      "('Friday   ', 15844447)\n",
      "('Thursday ', 15832921)\n",
      "('Wednesday', 15810270)\n",
      "('Saturday ', 15796466)\n",
      "('Tuesday  ', 15775398)\n",
      "('Sunday   ', 15749187)\n",
      "('Monday   ', 15745466)\n"
     ]
    }
   ],
   "source": [
    "sql_query = '''\n",
    "    SELECT \n",
    "        TO_CHAR(WorkDate, 'Day') AS Weekday,\n",
    "        SUM(MDScensus) AS Total_Census\n",
    "    FROM \n",
    "        public.staff_raw\n",
    "    GROUP BY\n",
    "        Weekday\n",
    "    ORDER BY\n",
    "        Total_Census DESC\n",
    "'''\n",
    "\n",
    "cursor.execute(sql_query)\n",
    "result = cursor.fetchall()\n",
    "for row in result:\n",
    "    print(row)\n"
   ]
  },
  {
   "cell_type": "markdown",
   "metadata": {},
   "source": [
    "### 3.3 Top Month of Nursing Staffing Shortage"
   ]
  },
  {
   "cell_type": "code",
   "execution_count": 9,
   "metadata": {},
   "outputs": [
    {
     "name": "stdout",
     "output_type": "stream",
     "text": [
      "(6, 3.70038572814622)\n",
      "(4, 3.71456179314433)\n",
      "(5, 3.72708149875275)\n"
     ]
    }
   ],
   "source": [
    "sql_query = '''\n",
    "    SELECT \n",
    "        EXTRACT(MONTH FROM WorkDate) AS Month,\n",
    "        SUM(Hrs_RNDON +\n",
    "            Hrs_RNadmin +\n",
    "            Hrs_RN +\n",
    "            Hrs_LPNadmin +\n",
    "            Hrs_LPN +\n",
    "            Hrs_CNA +\n",
    "            Hrs_NAtrn +\n",
    "            Hrs_MedAide) / SUM(MDScensus) AS Nurse_Staffing_Ratio\n",
    "    FROM public.staff_raw\n",
    "    WHERE MDScensus > 0\n",
    "    GROUP BY Month\n",
    "    ORDER BY Nurse_Staffing_Ratio;\n",
    "\n",
    "'''\n",
    "connection.rollback()\n",
    "cursor.execute(sql_query)\n",
    "result = cursor.fetchall()\n",
    "for row in result:\n",
    "    print(row)"
   ]
  },
  {
   "cell_type": "markdown",
   "metadata": {},
   "source": [
    "### 3.4 Top Weekday of Nursing Staffing Shortage"
   ]
  },
  {
   "cell_type": "code",
   "execution_count": 10,
   "metadata": {},
   "outputs": [
    {
     "name": "stdout",
     "output_type": "stream",
     "text": [
      "('Sunday   ', 3.21595781229853)\n",
      "('Saturday ', 3.28397082993123)\n",
      "('Monday   ', 3.81773860868901)\n",
      "('Friday   ', 3.82326390880037)\n",
      "('Thursday ', 3.93832520227948)\n",
      "('Tuesday  ', 3.94733127810786)\n",
      "('Wednesday', 3.97051325562438)\n"
     ]
    }
   ],
   "source": [
    "sql_query = '''\n",
    "    SELECT \n",
    "        TO_CHAR(WorkDate, 'Day') AS Weekday,\n",
    "        SUM(Hrs_RNDON +\n",
    "            Hrs_RNadmin +\n",
    "            Hrs_RN +\n",
    "            Hrs_LPNadmin +\n",
    "            Hrs_LPN +\n",
    "            Hrs_CNA +\n",
    "            Hrs_NAtrn +\n",
    "            Hrs_MedAide) / SUM(MDScensus) AS Nurse_Staffing_Ratio\n",
    "    FROM public.staff_raw\n",
    "    WHERE MDScensus > 0\n",
    "    GROUP BY Weekday\n",
    "    ORDER BY Nurse_Staffing_Ratio;\n",
    "\n",
    "'''\n",
    "connection.rollback()\n",
    "cursor.execute(sql_query)\n",
    "result = cursor.fetchall()\n",
    "for row in result:\n",
    "    print(row)"
   ]
  },
  {
   "cell_type": "markdown",
   "metadata": {},
   "source": [
    "# Close"
   ]
  },
  {
   "cell_type": "code",
   "execution_count": 11,
   "metadata": {},
   "outputs": [],
   "source": [
    "if cursor:\n",
    "    cursor.close()\n",
    "if connection:\n",
    "    connection.close()"
   ]
  }
 ],
 "metadata": {
  "kernelspec": {
   "display_name": "base",
   "language": "python",
   "name": "python3"
  },
  "language_info": {
   "codemirror_mode": {
    "name": "ipython",
    "version": 3
   },
   "file_extension": ".py",
   "mimetype": "text/x-python",
   "name": "python",
   "nbconvert_exporter": "python",
   "pygments_lexer": "ipython3",
   "version": "3.11.9"
  }
 },
 "nbformat": 4,
 "nbformat_minor": 2
}
